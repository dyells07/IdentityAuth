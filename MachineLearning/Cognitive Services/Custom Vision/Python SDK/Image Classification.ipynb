{
 "cells": [
  {
   "cell_type": "markdown",
   "metadata": {},
   "source": [
    "## Custom Vision Project\n",
    "\n",
    "Creating and training a custom vision project with the Python SDK."
   ]
  },
  {
   "cell_type": "code",
   "execution_count": 30,
   "metadata": {},
   "outputs": [],
   "source": [
    "from azure.cognitiveservices.vision.customvision.training import training_api\n",
    "from azure.cognitiveservices.vision.customvision.training.models import ImageFileCreateEntry\n",
    "from azure.cognitiveservices.vision.customvision.prediction import PredictionEndpoint\n",
    "from azure.storage.blob import BlockBlobService\n",
    "from tqdm import tqdm_notebook\n",
    "import json\n",
    "import glob\n",
    "import os\n",
    "import time\n",
    "import shutil\n",
    "\n",
    "config = json.load(open(\"config.json\"))"
   ]
  },
  {
   "cell_type": "code",
   "execution_count": 2,
   "metadata": {},
   "outputs": [],
   "source": [
    "train = training_api.TrainingApi(api_key=config[\"trainingKey\"])"
   ]
  },
  {
   "cell_type": "code",
   "execution_count": 29,
   "metadata": {},
   "outputs": [
    {
     "name": "stderr",
     "output_type": "stream",
     "text": [
      "Accept header absent and forced to application/json\n"
     ]
    },
    {
     "name": "stdout",
     "output_type": "stream",
     "text": [
      "General\n",
      "Food\n",
      "Landmarks\n",
      "Retail\n",
      "Adult\n",
      "General (compact)\n",
      "Landmarks (compact)\n",
      "Retail (compact)\n",
      "General\n"
     ]
    }
   ],
   "source": [
    "domains = train.get_domains()\n",
    "\n",
    "for d in domains:\n",
    "    print(d.name)"
   ]
  },
  {
   "cell_type": "code",
   "execution_count": 3,
   "metadata": {},
   "outputs": [
    {
     "name": "stderr",
     "output_type": "stream",
     "text": [
      "Accept header absent and forced to application/json\n"
     ]
    }
   ],
   "source": [
    "domain = None\n",
    "\n",
    "for d in domains:\n",
    "    if d.name == \"General\":\n",
    "        domain = d"
   ]
  },
  {
   "cell_type": "code",
   "execution_count": 4,
   "metadata": {},
   "outputs": [
    {
     "name": "stderr",
     "output_type": "stream",
     "text": [
      "Accept header absent and forced to application/json\n",
      "Accept header absent and forced to application/json\n"
     ]
    }
   ],
   "source": [
    "try:\n",
    "    project = train.create_project(\"Classify Herbs\", domain.id)\n",
    "except:\n",
    "    project = [p for p in train.get_projects() if p.name == \"Classify Herbs\" ][0]"
   ]
  },
  {
   "cell_type": "code",
   "execution_count": 5,
   "metadata": {},
   "outputs": [
    {
     "data": {
      "text/plain": [
       "'Classify Herbs'"
      ]
     },
     "execution_count": 5,
     "metadata": {},
     "output_type": "execute_result"
    }
   ],
   "source": [
    "project.name"
   ]
  },
  {
   "cell_type": "markdown",
   "metadata": {},
   "source": [
    "## Create Tags"
   ]
  },
  {
   "cell_type": "code",
   "execution_count": 6,
   "metadata": {},
   "outputs": [
    {
     "data": {
      "text/plain": [
       "['basil', 'cilantro', 'rosemary']"
      ]
     },
     "execution_count": 6,
     "metadata": {},
     "output_type": "execute_result"
    }
   ],
   "source": [
    "dir_names = [name for name in os.listdir(\"images\")]\n",
    "dir_names"
   ]
  },
  {
   "cell_type": "code",
   "execution_count": 8,
   "metadata": {},
   "outputs": [
    {
     "name": "stderr",
     "output_type": "stream",
     "text": [
      "Accept header absent and forced to application/json\n"
     ]
    }
   ],
   "source": [
    "created_tags = train.get_tags(project.id)\n",
    "\n",
    "for tag in dir_names:\n",
    "    tag_name = tag.capitalize()\n",
    "    \n",
    "    if tag_name not in [t.name for t in created_tags]:\n",
    "        train.create_tag(project.id, tag_name)"
   ]
  },
  {
   "cell_type": "markdown",
   "metadata": {},
   "source": [
    "## Get Images from Blob Storage"
   ]
  },
  {
   "cell_type": "code",
   "execution_count": 9,
   "metadata": {},
   "outputs": [],
   "source": [
    "blob_service = BlockBlobService(account_name=\"databricksdemostorage\", account_key=config[\"storageKey\"])"
   ]
  },
  {
   "cell_type": "code",
   "execution_count": 10,
   "metadata": {},
   "outputs": [],
   "source": [
    "blob_list = blob_service.list_blobs(\"images\")"
   ]
  },
  {
   "cell_type": "code",
   "execution_count": 11,
   "metadata": {},
   "outputs": [
    {
     "name": "stdout",
     "output_type": "stream",
     "text": [
      "Downloading images...\n"
     ]
    },
    {
     "data": {
      "application/vnd.jupyter.widget-view+json": {
       "model_id": "3459178823a24666bf0ca01e9b7c9689",
       "version_major": 2,
       "version_minor": 0
      },
      "text/plain": [
       "HBox(children=(IntProgress(value=0, max=38), HTML(value='')))"
      ]
     },
     "metadata": {},
     "output_type": "display_data"
    },
    {
     "name": "stdout",
     "output_type": "stream",
     "text": [
      "\n",
      "Done!\n"
     ]
    }
   ],
   "source": [
    "root_path = \"images\"\n",
    "\n",
    "if not os.path.exists(root_path):\n",
    "    os.mkdir(root_path)\n",
    "\n",
    "print(f\"Downloading images...\")\n",
    "\n",
    "for item in tqdm_notebook(blob_list.items):\n",
    "    item_path = item.name.split('/')\n",
    "    dir_path = os.path.join(\"images\", item_path[0])\n",
    "    \n",
    "    if not os.path.exists(dir_path):\n",
    "        os.mkdir(dir_path)\n",
    "    \n",
    "    blob_service.get_blob_to_path(\"images\", item.name, os.path.join(\"images\", item_path[0], item_path[1]))\n",
    "    \n",
    "print(\"Done!\")"
   ]
  },
  {
   "cell_type": "markdown",
   "metadata": {},
   "source": [
    "## Add Training Images"
   ]
  },
  {
   "cell_type": "code",
   "execution_count": 12,
   "metadata": {},
   "outputs": [
    {
     "data": {
      "application/vnd.jupyter.widget-view+json": {
       "model_id": "ba9bda9b317f490d8edb5aaad3f9c5c4",
       "version_major": 2,
       "version_minor": 0
      },
      "text/plain": [
       "HBox(children=(IntProgress(value=0, max=3), HTML(value='')))"
      ]
     },
     "metadata": {},
     "output_type": "display_data"
    },
    {
     "name": "stdout",
     "output_type": "stream",
     "text": [
      "Uploading basil images\n"
     ]
    },
    {
     "name": "stderr",
     "output_type": "stream",
     "text": [
      "Accept header absent and forced to application/json\n",
      "C:\\Users\\chron\\Anaconda3\\lib\\site-packages\\tqdm\\_monitor.py:89: TqdmSynchronisationWarning: Set changed size during iteration (see https://github.com/tqdm/tqdm/issues/481)\n",
      "  TqdmSynchronisationWarning)\n"
     ]
    },
    {
     "name": "stdout",
     "output_type": "stream",
     "text": [
      "Uploading cilantro images\n"
     ]
    },
    {
     "name": "stderr",
     "output_type": "stream",
     "text": [
      "Accept header absent and forced to application/json\n"
     ]
    },
    {
     "name": "stdout",
     "output_type": "stream",
     "text": [
      "Uploading rosemary images\n"
     ]
    },
    {
     "name": "stderr",
     "output_type": "stream",
     "text": [
      "Accept header absent and forced to application/json\n"
     ]
    },
    {
     "name": "stdout",
     "output_type": "stream",
     "text": [
      "\n",
      "Done!\n"
     ]
    }
   ],
   "source": [
    "image_file_create_entries = []\n",
    "\n",
    "for directory in tqdm_notebook(dir_names):\n",
    "    files = glob.glob(f\"./images/{directory}/*.*\")\n",
    "\n",
    "    for image in files:\n",
    "        image_file_create_entries.append(ImageFileCreateEntry(name=image, contents=open(image, \"rb\").read()))\n",
    "\n",
    "    print(f\"Uploading {directory} images\")\n",
    "    train.create_images_from_files(project.id, image_file_create_entries, \n",
    "                                   [tag.id for tag in created_tags if tag.name == directory.capitalize()])\n",
    "\n",
    "    image_file_create_entries.clear()\n",
    "print(\"Done!\")"
   ]
  },
  {
   "cell_type": "markdown",
   "metadata": {},
   "source": [
    "## Train Project and Perform Quick Test"
   ]
  },
  {
   "cell_type": "code",
   "execution_count": 20,
   "metadata": {},
   "outputs": [
    {
     "name": "stdout",
     "output_type": "stream",
     "text": [
      "Training...\n"
     ]
    },
    {
     "name": "stderr",
     "output_type": "stream",
     "text": [
      "Accept header absent and forced to application/json\n"
     ]
    },
    {
     "name": "stdout",
     "output_type": "stream",
     "text": [
      "Training may not be needed due to no changes in the project.\n"
     ]
    },
    {
     "name": "stderr",
     "output_type": "stream",
     "text": [
      "Accept header absent and forced to application/json\n"
     ]
    }
   ],
   "source": [
    "try:\n",
    "    print(\"Training...\")\n",
    "    iteration = train.train_project(project.id)\n",
    "    \n",
    "    while iteration.status != \"Completed\":\n",
    "        time.sleep(1000)\n",
    "        iteration = train.get_iteration(project.id, iteration.id)\n",
    "\n",
    "    train.update_iteration(project.id, iteration.id, is_default=True)\n",
    "    \n",
    "    print(\"Training complete!\")\n",
    "except:\n",
    "    print(\"Training may not be needed due to no changes in the project.\")\n",
    "    iteration = train.get_iterations(project.id)[0]"
   ]
  },
  {
   "cell_type": "code",
   "execution_count": 24,
   "metadata": {},
   "outputs": [
    {
     "name": "stderr",
     "output_type": "stream",
     "text": [
      "Accept header absent and forced to application/json\n"
     ]
    }
   ],
   "source": [
    "prediction = train.quick_test_image_url(project.id, iteration.id, \n",
    "    \"https://www.seedsavers.org/site/img/seo-images/1250-rosemary-herb.jpg\")"
   ]
  },
  {
   "cell_type": "code",
   "execution_count": 25,
   "metadata": {},
   "outputs": [
    {
     "name": "stdout",
     "output_type": "stream",
     "text": [
      "Rosemary - 99.7884452\n",
      "Cilantro - 0.279292464\n",
      "Basil - 0.24757147799999998\n"
     ]
    }
   ],
   "source": [
    "for pred in prediction.predictions:\n",
    "    print(pred.tag_name, \"-\", pred.probability * 100)"
   ]
  },
  {
   "cell_type": "markdown",
   "metadata": {},
   "source": [
    "## Prediction Endpoint"
   ]
  },
  {
   "cell_type": "code",
   "execution_count": 31,
   "metadata": {},
   "outputs": [],
   "source": [
    "prediction = PredictionEndpoint(config[\"predictionKey\"])"
   ]
  },
  {
   "cell_type": "code",
   "execution_count": 36,
   "metadata": {},
   "outputs": [
    {
     "name": "stderr",
     "output_type": "stream",
     "text": [
      "Accept header absent and forced to application/json\n"
     ]
    }
   ],
   "source": [
    "url_prediction = prediction.predict_image_url(project.id, \n",
    "    url=\"https://www.seedsavers.org/site/img/seo-images/1250-rosemary-herb.jpg\")"
   ]
  },
  {
   "cell_type": "code",
   "execution_count": 38,
   "metadata": {},
   "outputs": [
    {
     "name": "stdout",
     "output_type": "stream",
     "text": [
      "Rosemary - 99.7884452\n",
      "Cilantro - 0.279292464\n",
      "Basil - 0.24757147799999998\n"
     ]
    }
   ],
   "source": [
    "for pred in url_prediction.predictions:\n",
    "    print(pred.tag_name, \"-\", pred.probability * 100)"
   ]
  },
  {
   "cell_type": "markdown",
   "metadata": {},
   "source": [
    "## Cleanup\n",
    "\n",
    "Since the training images were downloaded to our local machine from Blob Storage, let's delete the images on our local machine to clean that up."
   ]
  },
  {
   "cell_type": "code",
   "execution_count": 28,
   "metadata": {},
   "outputs": [],
   "source": [
    "shutil.rmtree(root_path)"
   ]
  }
 ],
 "metadata": {
  "kernelspec": {
   "display_name": "Python 3",
   "language": "python",
   "name": "python3"
  },
  "language_info": {
   "codemirror_mode": {
    "name": "ipython",
    "version": 3
   },
   "file_extension": ".py",
   "mimetype": "text/x-python",
   "name": "python",
   "nbconvert_exporter": "python",
   "pygments_lexer": "ipython3",
   "version": "3.6.6"
  }
 },
 "nbformat": 4,
 "nbformat_minor": 2
}
