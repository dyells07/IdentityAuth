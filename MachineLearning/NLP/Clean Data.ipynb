{
 "cells": [
  {
   "cell_type": "markdown",
   "metadata": {},
   "source": [
    "## Clean text data"
   ]
  },
  {
   "cell_type": "code",
   "execution_count": 42,
   "metadata": {},
   "outputs": [],
   "source": [
    "import nltk\n",
    "import pandas as pd\n",
    "import numpy as np\n",
    "import matplotlib.pyplot as plt"
   ]
  },
  {
   "cell_type": "markdown",
   "metadata": {},
   "source": [
    "### Tokenize words"
   ]
  },
  {
   "cell_type": "code",
   "execution_count": 43,
   "metadata": {},
   "outputs": [],
   "source": [
    "# Run only if this is the first ever time using nltk\n",
    "# nltk.download()"
   ]
  },
  {
   "cell_type": "code",
   "execution_count": 44,
   "metadata": {},
   "outputs": [],
   "source": [
    "df = pd.read_csv(\"../Cognitive Services/Text Analytics/tweets.csv\")"
   ]
  },
  {
   "cell_type": "code",
   "execution_count": null,
   "metadata": {},
   "outputs": [],
   "source": [
    "[nltk.sent_tokenize(item) for item in df[\"text\"].values]"
   ]
  },
  {
   "cell_type": "code",
   "execution_count": null,
   "metadata": {},
   "outputs": [],
   "source": [
    "tokens = [nltk.word_tokenize(item) for item in df[\"text\"].values]\n",
    "tokens"
   ]
  },
  {
   "cell_type": "markdown",
   "metadata": {},
   "source": [
    "### Remove punctuation"
   ]
  },
  {
   "cell_type": "code",
   "execution_count": 47,
   "metadata": {},
   "outputs": [
    {
     "data": {
      "text/plain": [
       "['Host',\n",
       " 'a',\n",
       " 'Website',\n",
       " 'with',\n",
       " 'Azure',\n",
       " 'Functions',\n",
       " 'and',\n",
       " 'NodeJS',\n",
       " 'Part',\n",
       " '2']"
      ]
     },
     "execution_count": 47,
     "metadata": {},
     "output_type": "execute_result"
    }
   ],
   "source": [
    "import string\n",
    "import re\n",
    "\n",
    "regex = re.compile(f'[{re.escape(string.punctuation)}]')\n",
    "\n",
    "tokens_without_punctuation = [regex.sub(u'', word) for words in tokens for word in words if not regex.sub(u'', word) == u'']\n",
    "tokens_without_punctuation[:10]"
   ]
  },
  {
   "cell_type": "markdown",
   "metadata": {},
   "source": [
    "### Remove stop words"
   ]
  },
  {
   "cell_type": "code",
   "execution_count": 48,
   "metadata": {},
   "outputs": [
    {
     "data": {
      "text/plain": [
       "['Host',\n",
       " 'Website',\n",
       " 'Azure',\n",
       " 'Functions',\n",
       " 'NodeJS',\n",
       " 'Part',\n",
       " '2',\n",
       " 'Logging',\n",
       " 'wintellectuals',\n",
       " 'https',\n",
       " 'tcoRCkBadYCSK',\n",
       " 'dotnet',\n",
       " 'DotNetKicks',\n",
       " 'CsharpCorner',\n",
       " 'pmohammedramees']"
      ]
     },
     "execution_count": 48,
     "metadata": {},
     "output_type": "execute_result"
    }
   ],
   "source": [
    "from nltk.corpus import stopwords\n",
    "\n",
    "stop_words = stopwords.words(\"english\")\n",
    "stop_words.append(\"via\")\n",
    "stop_words\n",
    "\n",
    "words = [token for token in tokens_without_punctuation if token not in stop_words]\n",
    "words[:15]"
   ]
  },
  {
   "cell_type": "markdown",
   "metadata": {},
   "source": [
    "### Remove links"
   ]
  },
  {
   "cell_type": "code",
   "execution_count": 64,
   "metadata": {},
   "outputs": [
    {
     "data": {
      "text/plain": [
       "['Host',\n",
       " 'Website',\n",
       " 'Azure',\n",
       " 'Functions',\n",
       " 'NodeJS',\n",
       " 'Part',\n",
       " '2',\n",
       " 'Logging',\n",
       " 'wintellectuals',\n",
       " 'dotnet',\n",
       " 'DotNetKicks',\n",
       " 'CsharpCorner',\n",
       " 'pmohammedramees',\n",
       " 'mcbeniwal',\n",
       " 'stratisplatform',\n",
       " 'graphitegtc',\n",
       " 'infragistics',\n",
       " 'glutoken',\n",
       " 'jetbrains',\n",
       " 'GrapeCityUS']"
      ]
     },
     "execution_count": 64,
     "metadata": {},
     "output_type": "execute_result"
    }
   ],
   "source": [
    "import re\n",
    "    \n",
    "regex = re.compile('http\\S+')\n",
    "\n",
    "tokens_without_links = [regex.sub(u'', word) for word in words if not regex.sub(u'', word) == u'' and not word.startswith(\"tc\")]\n",
    "tokens_without_links[:20]"
   ]
  },
  {
   "cell_type": "markdown",
   "metadata": {},
   "source": [
    "### Stem words"
   ]
  },
  {
   "cell_type": "code",
   "execution_count": null,
   "metadata": {},
   "outputs": [],
   "source": [
    "from nltk.stem import PorterStemmer\n",
    "\n",
    "stemmer = PorterStemmer()\n",
    "\n",
    "stemmed_words = [stemmer.stem(word) for word in tokens_without_links]\n",
    "stemmed_words[:10]"
   ]
  },
  {
   "cell_type": "code",
   "execution_count": null,
   "metadata": {},
   "outputs": [],
   "source": [
    "from collections import Counter\n",
    "\n",
    "counter = Counter(stemmed_words)\n",
    "counter.most_common(20)"
   ]
  },
  {
   "cell_type": "code",
   "execution_count": 52,
   "metadata": {},
   "outputs": [],
   "source": [
    "def plot_words(words, values):\n",
    "    indexes = np.arange(len(words))\n",
    "    plt.xticks(indexes, words, rotation=90)\n",
    "    plt.bar(indexes, values)"
   ]
  },
  {
   "cell_type": "code",
   "execution_count": null,
   "metadata": {},
   "outputs": [],
   "source": [
    "plot_words(counter.keys(), counter.values())"
   ]
  },
  {
   "cell_type": "code",
   "execution_count": 54,
   "metadata": {},
   "outputs": [],
   "source": [
    "most_common_words = [word for word, _ in counter.most_common(20)]\n",
    "most_common_values = [count for _, count in counter.most_common(20)]"
   ]
  },
  {
   "cell_type": "code",
   "execution_count": null,
   "metadata": {},
   "outputs": [],
   "source": [
    "plot_words(most_common_words, most_common_values)"
   ]
  },
  {
   "cell_type": "markdown",
   "metadata": {},
   "source": [
    "### Lemmatize words"
   ]
  },
  {
   "cell_type": "code",
   "execution_count": 63,
   "metadata": {},
   "outputs": [
    {
     "data": {
      "text/plain": [
       "['Host',\n",
       " 'Website',\n",
       " 'Azure',\n",
       " 'Functions',\n",
       " 'NodeJS',\n",
       " 'Part',\n",
       " '2',\n",
       " 'Logging',\n",
       " 'wintellectuals',\n",
       " 'dotnet',\n",
       " 'DotNetKicks',\n",
       " 'CsharpCorner',\n",
       " 'pmohammedramees',\n",
       " 'mcbeniwal',\n",
       " 'stratisplatform',\n",
       " 'graphitegtc',\n",
       " 'infragistics',\n",
       " 'glutoken',\n",
       " 'jetbrains',\n",
       " 'GrapeCityUS']"
      ]
     },
     "execution_count": 63,
     "metadata": {},
     "output_type": "execute_result"
    }
   ],
   "source": [
    "from nltk.stem import WordNetLemmatizer\n",
    "\n",
    "lemmatizer = WordNetLemmatizer()\n",
    "\n",
    "lemmatized_words = [lemmatizer.lemmatize(word) for word in tokens_without_links]\n",
    "lemmatized_words[:20]"
   ]
  },
  {
   "cell_type": "code",
   "execution_count": 57,
   "metadata": {},
   "outputs": [
    {
     "data": {
      "text/plain": [
       "[('Wintellect', 15),\n",
       " ('CsharpCorner', 9),\n",
       " ('stratisplatform', 8),\n",
       " ('Data', 8),\n",
       " ('graphitegtc', 7),\n",
       " ('infragistics', 7),\n",
       " ('glutoken', 7),\n",
       " ('Host', 6),\n",
       " ('Website', 6),\n",
       " ('Azure', 6),\n",
       " ('Functions', 6),\n",
       " ('NodeJS', 6),\n",
       " ('Part', 6),\n",
       " ('jetbrains', 6),\n",
       " ('jprosise', 6),\n",
       " ('wintellectuals', 5),\n",
       " ('dotnet', 5),\n",
       " ('DotNetKicks', 5),\n",
       " ('mcbeniwal', 5),\n",
       " ('1', 5)]"
      ]
     },
     "execution_count": 57,
     "metadata": {},
     "output_type": "execute_result"
    }
   ],
   "source": [
    "lemmatized_counter = Counter(lemmatized_words)\n",
    "lemmatized_counter.most_common(20)"
   ]
  },
  {
   "cell_type": "code",
   "execution_count": 58,
   "metadata": {},
   "outputs": [
    {
     "data": {
      "image/png": "[encoded data removed]",
      "text/plain": [
       "<matplotlib.figure.Figure at 0x1e43fc94f28>"
      ]
     },
     "metadata": {},
     "output_type": "display_data"
    }
   ],
   "source": [
    "plot_words(lemmatized_counter.keys(), lemmatized_counter.values())"
   ]
  },
  {
   "cell_type": "code",
   "execution_count": 59,
   "metadata": {},
   "outputs": [],
   "source": [
    "most_common_words = [word for word, _ in lemmatized_counter.most_common(20)]\n",
    "most_common_values = [count for _, count in lemmatized_counter.most_common(20)]"
   ]
  },
  {
   "cell_type": "code",
   "execution_count": 60,
   "metadata": {},
   "outputs": [
    {
     "data": {
      "image/png": "[encoded data removed]",
      "text/plain": [
       "<matplotlib.figure.Figure at 0x1e445151630>"
      ]
     },
     "metadata": {},
     "output_type": "display_data"
    }
   ],
   "source": [
    "plot_words(most_common_words, most_common_values)"
   ]
  },
  {
   "cell_type": "code",
   "execution_count": 61,
   "metadata": {},
   "outputs": [],
   "source": [
    "pd.DataFrame({\n",
    "    \"words\": lemmatized_words\n",
    "}).to_csv(\"words.csv\", index=False, encoding=\"UTF-8\")"
   ]
  }
 ],
 "metadata": {
  "kernelspec": {
   "display_name": "Python 3",
   "language": "python",
   "name": "python3"
  },
  "language_info": {
   "codemirror_mode": {
    "name": "ipython",
    "version": 3
   },
   "file_extension": ".py",
   "mimetype": "text/x-python",
   "name": "python",
   "nbconvert_exporter": "python",
   "pygments_lexer": "ipython3",
   "version": "3.6.4"
  }
 },
 "nbformat": 4,
 "nbformat_minor": 2
}
